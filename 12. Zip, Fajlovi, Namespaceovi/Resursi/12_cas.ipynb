{
  "nbformat": 4,
  "nbformat_minor": 0,
  "metadata": {
    "colab": {
      "name": "12_cas.ipynb",
      "provenance": [],
      "collapsed_sections": []
    },
    "kernelspec": {
      "name": "python3",
      "display_name": "Python 3"
    },
    "language_info": {
      "name": "python"
    }
  },
  "cells": [
    {
      "cell_type": "code",
      "metadata": {
        "id": "iPj0_0brOliR"
      },
      "source": [
        "for i in range(1, 101):\n",
        "    if i % 3 == 0 and i % 5 == 0:\n",
        "        print('FizzBuzz')\n",
        "    elif i % 3 == 0:\n",
        "        print('Fizz')\n",
        "    elif i % 5 == 0:\n",
        "        print('Buzz')\n",
        "    else:\n",
        "        print(i)"
      ],
      "execution_count": null,
      "outputs": []
    },
    {
      "cell_type": "markdown",
      "metadata": {
        "id": "jWnSoP1vuTqu"
      },
      "source": [
        "Napisati program koji se sastoji od dve funkcije: ucitaj(ime) i prepisi(ime, sadrzaj). Program treba da prepise sadržaj datoteke čije se ime prosleđuje kao argument fje ucitaj u datoteku čije se ime prosledjuje kao argument fje prepisi. U slučaju greške, na standardni izlaz za greške ispisati odgovarajuću poruku. Voditi racuna o pravilnom hendlovanju fajlova."
      ]
    },
    {
      "cell_type": "code",
      "metadata": {
        "id": "5Ym75jb6S4Pt",
        "colab": {
          "base_uri": "https://localhost:8080/"
        },
        "outputId": "112c809a-70cc-4410-d0be-897adf02f6d2"
      },
      "source": [
        "def ucitaj(ime):\n",
        "    fajl = open(ime, 'r')\n",
        "    sadrzaj = fajl.read()\n",
        "    fajl.close()\n",
        "    return sadrzaj\n",
        "\n",
        "def prepisi(ime, sadrzaj):\n",
        "    fajl = open(ime, 'w')\n",
        "    fajl.write(sadrzaj)\n",
        "    fajl.close()\n",
        "    print(\"Prepisivanje gotovo!\")\n",
        "\n",
        "citanje = input(\"Unesi ime fajla za citanje \")\n",
        "pisanje = input(\"Unesi ime fajla za upis \")\n",
        "\n",
        "sadrzaj = ucitaj(citanje)\n",
        "prepisi(pisanje, sadrzaj)"
      ],
      "execution_count": 21,
      "outputs": [
        {
          "output_type": "stream",
          "text": [
            "Unesi ime fajla za citanje prvi.txt\n",
            "Unesi ime fajla za upis drugi.txt\n",
            "Prepisivanje gotovo!\n"
          ],
          "name": "stdout"
        }
      ]
    },
    {
      "cell_type": "code",
      "metadata": {
        "id": "OdXah2ocwQpX"
      },
      "source": [
        "with open(\"prvi.txt\", \"r\") as first_file, open(\"drugi.txt\", 'w') as second_file:\n",
        "    for line in first_file:\n",
        "        second_file.write(line)"
      ],
      "execution_count": 22,
      "outputs": []
    },
    {
      "cell_type": "markdown",
      "metadata": {
        "id": "m3Vpxv38xQh1"
      },
      "source": [
        "Napisati program koji se sastoji iz iste funkcije ucitaj() kao u prethodnom zadatku, i funkcije prepisi_svaki_treci() koja prepisuje svaki treći karakter fajla u drugi fajl. Imena fajlova se prosledjuju kao argumenti funkcija, kao u prethodnom zadatku. U slučaju greške, na standardni izlaz ispisati odgovarajuću poruku."
      ]
    },
    {
      "cell_type": "code",
      "metadata": {
        "colab": {
          "base_uri": "https://localhost:8080/"
        },
        "id": "gyKZnu0CwqH1",
        "outputId": "deba7b46-121c-458b-a7be-6938987404a9"
      },
      "source": [
        "def ucitaj(ime):\n",
        "    fajl = open(ime, 'r')\n",
        "    sadrzaj = fajl.read()\n",
        "    fajl.close()\n",
        "    return sadrzaj\n",
        "\n",
        "def prepisi_svaki_treci(ime, sadrzaj):\n",
        "    svaki_treci = sadrzaj[::3]\n",
        "    fajl = open(ime, 'w')\n",
        "    fajl.write(svaki_treci)\n",
        "    fajl.close()\n",
        "    print(\"Prepisivanje gotovo!\")\n",
        "\n",
        "sadrzaj = ucitaj(\"prvi.txt\")\n",
        "\n",
        "prepisi_svaki_treci(\"drugi.txt\", sadrzaj)"
      ],
      "execution_count": 27,
      "outputs": [
        {
          "output_type": "stream",
          "text": [
            "Prepisivanje gotovo!\n"
          ],
          "name": "stdout"
        }
      ]
    },
    {
      "cell_type": "code",
      "metadata": {
        "id": "dfLpV9oAzarO"
      },
      "source": [
        "def ucitaj(ime):\n",
        "    fajl = open(ime, 'r')\n",
        "    sadrzaj = fajl.read()\n",
        "    fajl.close()\n",
        "    return sadrzaj\n",
        "\n",
        "def procesiraj(sadrzaj):\n",
        "    pass\n",
        "\n",
        "def ispisi(ime, sadrzaj):\n",
        "    novi_sadrzaj = procesiraj(sadrzaj)\n",
        "\n",
        "    fajl = open(ime, 'w')\n",
        "    fajl.write(novi_sadrzaj)\n",
        "    fajl.close()\n",
        "    print(\"Procesiranje gotovo!\")\n",
        "\n",
        "sadrzaj = ucitaj(\"prvi.txt\")\n",
        "\n",
        "prepisi_svaki_treci(\"drugi.txt\", sadrzaj)"
      ],
      "execution_count": null,
      "outputs": []
    }
  ]
}